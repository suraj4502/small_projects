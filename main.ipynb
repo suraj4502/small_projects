{
 "cells": [
  {
   "cell_type": "code",
   "execution_count": 1,
   "id": "4c599b73",
   "metadata": {},
   "outputs": [],
   "source": [
    "# import the dependencies\n",
    "import pandas as pd\n",
    "import numpy as np\n",
    "import matplotlib.pyplot as plt\n",
    "import seaborn as sns\n",
    "from statsmodels.tsa.seasonal import seasonal_decompose"
   ]
  },
  {
   "cell_type": "code",
   "execution_count": 2,
   "id": "dea59281",
   "metadata": {},
   "outputs": [],
   "source": [
    "# Load the data\n",
    "df = pd.read_excel(\"Random Price Dataset Trial Assignment.xlsx\")"
   ]
  },
  {
   "cell_type": "code",
   "execution_count": 3,
   "id": "73b7a32e",
   "metadata": {},
   "outputs": [
    {
     "data": {
      "text/html": [
       "<div>\n",
       "<style scoped>\n",
       "    .dataframe tbody tr th:only-of-type {\n",
       "        vertical-align: middle;\n",
       "    }\n",
       "\n",
       "    .dataframe tbody tr th {\n",
       "        vertical-align: top;\n",
       "    }\n",
       "\n",
       "    .dataframe thead th {\n",
       "        text-align: right;\n",
       "    }\n",
       "</style>\n",
       "<table border=\"1\" class=\"dataframe\">\n",
       "  <thead>\n",
       "    <tr style=\"text-align: right;\">\n",
       "      <th></th>\n",
       "      <th>Date</th>\n",
       "      <th>Domestic Market (Contract) Blow Molding, Low</th>\n",
       "      <th>Spot/Export Blow Molding</th>\n",
       "      <th>Spot, Domestic</th>\n",
       "      <th>WTISPLC</th>\n",
       "      <th>MCOILBRENTEU</th>\n",
       "      <th>GASREGM</th>\n",
       "      <th>IMPCH</th>\n",
       "      <th>EXPCH</th>\n",
       "      <th>PRUBBUSDM</th>\n",
       "      <th>...</th>\n",
       "      <th>Russia_import</th>\n",
       "      <th>South_Africa_import</th>\n",
       "      <th>Turkey_import</th>\n",
       "      <th>Brazil_import</th>\n",
       "      <th>France_import</th>\n",
       "      <th>Germeny_import</th>\n",
       "      <th>United Kingdome_import</th>\n",
       "      <th>China_import</th>\n",
       "      <th>Japan_import</th>\n",
       "      <th>South_korea_import</th>\n",
       "    </tr>\n",
       "  </thead>\n",
       "  <tbody>\n",
       "    <tr>\n",
       "      <th>0</th>\n",
       "      <td>2000-01-01</td>\n",
       "      <td>41.0</td>\n",
       "      <td>NaN</td>\n",
       "      <td>NaN</td>\n",
       "      <td>27.18</td>\n",
       "      <td>25.51</td>\n",
       "      <td>1.289</td>\n",
       "      <td>6902.1</td>\n",
       "      <td>863.1</td>\n",
       "      <td>29.207387</td>\n",
       "      <td>...</td>\n",
       "      <td>NaN</td>\n",
       "      <td>NaN</td>\n",
       "      <td>6833222.0</td>\n",
       "      <td>2649293.0</td>\n",
       "      <td>35239920.0</td>\n",
       "      <td>NaN</td>\n",
       "      <td>NaN</td>\n",
       "      <td>NaN</td>\n",
       "      <td>NaN</td>\n",
       "      <td>NaN</td>\n",
       "    </tr>\n",
       "    <tr>\n",
       "      <th>1</th>\n",
       "      <td>2000-02-01</td>\n",
       "      <td>41.0</td>\n",
       "      <td>NaN</td>\n",
       "      <td>NaN</td>\n",
       "      <td>29.35</td>\n",
       "      <td>27.78</td>\n",
       "      <td>1.377</td>\n",
       "      <td>6584.4</td>\n",
       "      <td>972.7</td>\n",
       "      <td>33.391099</td>\n",
       "      <td>...</td>\n",
       "      <td>NaN</td>\n",
       "      <td>NaN</td>\n",
       "      <td>5647987.0</td>\n",
       "      <td>2787667.0</td>\n",
       "      <td>36716752.0</td>\n",
       "      <td>NaN</td>\n",
       "      <td>NaN</td>\n",
       "      <td>NaN</td>\n",
       "      <td>NaN</td>\n",
       "      <td>NaN</td>\n",
       "    </tr>\n",
       "    <tr>\n",
       "      <th>2</th>\n",
       "      <td>2000-03-01</td>\n",
       "      <td>45.0</td>\n",
       "      <td>NaN</td>\n",
       "      <td>NaN</td>\n",
       "      <td>29.89</td>\n",
       "      <td>27.49</td>\n",
       "      <td>1.516</td>\n",
       "      <td>6424.1</td>\n",
       "      <td>1330.5</td>\n",
       "      <td>30.941913</td>\n",
       "      <td>...</td>\n",
       "      <td>NaN</td>\n",
       "      <td>NaN</td>\n",
       "      <td>6721125.0</td>\n",
       "      <td>4692701.0</td>\n",
       "      <td>45144561.0</td>\n",
       "      <td>NaN</td>\n",
       "      <td>NaN</td>\n",
       "      <td>NaN</td>\n",
       "      <td>NaN</td>\n",
       "      <td>NaN</td>\n",
       "    </tr>\n",
       "    <tr>\n",
       "      <th>3</th>\n",
       "      <td>2000-04-01</td>\n",
       "      <td>47.0</td>\n",
       "      <td>NaN</td>\n",
       "      <td>NaN</td>\n",
       "      <td>25.74</td>\n",
       "      <td>22.76</td>\n",
       "      <td>1.465</td>\n",
       "      <td>7070.5</td>\n",
       "      <td>1227.5</td>\n",
       "      <td>31.930148</td>\n",
       "      <td>...</td>\n",
       "      <td>NaN</td>\n",
       "      <td>NaN</td>\n",
       "      <td>7169182.0</td>\n",
       "      <td>2565068.0</td>\n",
       "      <td>32240349.0</td>\n",
       "      <td>NaN</td>\n",
       "      <td>NaN</td>\n",
       "      <td>NaN</td>\n",
       "      <td>NaN</td>\n",
       "      <td>NaN</td>\n",
       "    </tr>\n",
       "    <tr>\n",
       "      <th>4</th>\n",
       "      <td>2000-05-01</td>\n",
       "      <td>47.0</td>\n",
       "      <td>NaN</td>\n",
       "      <td>NaN</td>\n",
       "      <td>28.78</td>\n",
       "      <td>27.74</td>\n",
       "      <td>1.487</td>\n",
       "      <td>7850.2</td>\n",
       "      <td>1526.3</td>\n",
       "      <td>31.201702</td>\n",
       "      <td>...</td>\n",
       "      <td>NaN</td>\n",
       "      <td>NaN</td>\n",
       "      <td>10466333.0</td>\n",
       "      <td>4671325.0</td>\n",
       "      <td>29351633.0</td>\n",
       "      <td>NaN</td>\n",
       "      <td>NaN</td>\n",
       "      <td>NaN</td>\n",
       "      <td>NaN</td>\n",
       "      <td>NaN</td>\n",
       "    </tr>\n",
       "  </tbody>\n",
       "</table>\n",
       "<p>5 rows × 50 columns</p>\n",
       "</div>"
      ],
      "text/plain": [
       "        Date  Domestic Market (Contract) Blow Molding, Low  \\\n",
       "0 2000-01-01                                          41.0   \n",
       "1 2000-02-01                                          41.0   \n",
       "2 2000-03-01                                          45.0   \n",
       "3 2000-04-01                                          47.0   \n",
       "4 2000-05-01                                          47.0   \n",
       "\n",
       "   Spot/Export Blow Molding  Spot, Domestic  WTISPLC  MCOILBRENTEU  GASREGM  \\\n",
       "0                       NaN             NaN    27.18         25.51    1.289   \n",
       "1                       NaN             NaN    29.35         27.78    1.377   \n",
       "2                       NaN             NaN    29.89         27.49    1.516   \n",
       "3                       NaN             NaN    25.74         22.76    1.465   \n",
       "4                       NaN             NaN    28.78         27.74    1.487   \n",
       "\n",
       "    IMPCH   EXPCH  PRUBBUSDM  ...  Russia_import  South_Africa_import  \\\n",
       "0  6902.1   863.1  29.207387  ...            NaN                  NaN   \n",
       "1  6584.4   972.7  33.391099  ...            NaN                  NaN   \n",
       "2  6424.1  1330.5  30.941913  ...            NaN                  NaN   \n",
       "3  7070.5  1227.5  31.930148  ...            NaN                  NaN   \n",
       "4  7850.2  1526.3  31.201702  ...            NaN                  NaN   \n",
       "\n",
       "   Turkey_import  Brazil_import  France_import  Germeny_import  \\\n",
       "0      6833222.0      2649293.0     35239920.0             NaN   \n",
       "1      5647987.0      2787667.0     36716752.0             NaN   \n",
       "2      6721125.0      4692701.0     45144561.0             NaN   \n",
       "3      7169182.0      2565068.0     32240349.0             NaN   \n",
       "4     10466333.0      4671325.0     29351633.0             NaN   \n",
       "\n",
       "   United Kingdome_import  China_import  Japan_import  South_korea_import  \n",
       "0                     NaN           NaN           NaN                 NaN  \n",
       "1                     NaN           NaN           NaN                 NaN  \n",
       "2                     NaN           NaN           NaN                 NaN  \n",
       "3                     NaN           NaN           NaN                 NaN  \n",
       "4                     NaN           NaN           NaN                 NaN  \n",
       "\n",
       "[5 rows x 50 columns]"
      ]
     },
     "execution_count": 3,
     "metadata": {},
     "output_type": "execute_result"
    }
   ],
   "source": [
    "df.head()"
   ]
  },
  {
   "cell_type": "markdown",
   "id": "44c5f201",
   "metadata": {},
   "source": [
    "# EDA"
   ]
  },
  {
   "cell_type": "code",
   "execution_count": 4,
   "id": "6537d25a",
   "metadata": {},
   "outputs": [
    {
     "data": {
      "text/plain": [
       "(276, 50)"
      ]
     },
     "execution_count": 4,
     "metadata": {},
     "output_type": "execute_result"
    }
   ],
   "source": [
    "df.shape"
   ]
  },
  {
   "cell_type": "code",
   "execution_count": 5,
   "id": "7ba7e153",
   "metadata": {},
   "outputs": [
    {
     "data": {
      "text/plain": [
       "Index(['Date', 'Domestic Market (Contract) Blow Molding, Low',\n",
       "       'Spot/Export Blow Molding', 'Spot, Domestic', 'WTISPLC', 'MCOILBRENTEU',\n",
       "       'GASREGM', 'IMPCH', 'EXPCH', 'PRUBBUSDM', 'WPUFD4111',\n",
       "       'PCU325211325211', 'PCU32611332611301', 'WPU0915021625',\n",
       "       'PCU3252132521', 'MHHNGSP', 'WPU072205011', 'PCU32611132611115',\n",
       "       'PCU32611332611301.1', 'PCU32611132611112', 'WPU0915021622',\n",
       "       'Producer Price Index by Industry: Plastics Material and Resins Manufacturing: Thermoplastic Resins and Plastics Materials ',\n",
       "       'Australia _export', 'Canada_export', 'Saudi_export', 'Usa_export',\n",
       "       'India_export', 'Russia_export', 'South_Africa_export', 'Turkey',\n",
       "       'Brazil', 'France_export', 'Germeny_export', 'United Kingdome_export',\n",
       "       'China_export', 'Australia _import', 'Canada_import', 'Saudi_import',\n",
       "       'Usa_import', 'India_import', 'Russia_import', 'South_Africa_import',\n",
       "       'Turkey_import', 'Brazil_import', 'France_import', 'Germeny_import',\n",
       "       'United Kingdome_import', 'China_import', 'Japan_import',\n",
       "       'South_korea_import'],\n",
       "      dtype='object')"
      ]
     },
     "execution_count": 5,
     "metadata": {},
     "output_type": "execute_result"
    }
   ],
   "source": [
    "df.columns"
   ]
  },
  {
   "cell_type": "markdown",
   "id": "3f578501",
   "metadata": {},
   "source": [
    "*I see a lot of useless and unwanted columns. I will check the correlation and use other techniques then i will remove the unwnated columns.*"
   ]
  },
  {
   "cell_type": "code",
   "execution_count": 6,
   "id": "4b654954",
   "metadata": {},
   "outputs": [
    {
     "name": "stdout",
     "output_type": "stream",
     "text": [
      "Spot/Export Blow Molding     91\n",
      "Spot, Domestic              151\n",
      "WPU0915021625               144\n",
      "WPU072205011                161\n",
      "PCU32611132611115           161\n",
      "PCU32611332611301.1          72\n",
      "PCU32611132611112           161\n",
      "WPU0915021622               143\n",
      "Australia _export           238\n",
      "Canada_export               122\n",
      "Saudi_export                243\n",
      "Usa_export                  122\n",
      "India_export                134\n",
      "Russia_export               168\n",
      "South_Africa_export         122\n",
      "Germeny_export               98\n",
      "United Kingdome_export      123\n",
      "China_export                168\n",
      "Australia _import           167\n",
      "Canada_import               122\n",
      "Saudi_import                243\n",
      "Usa_import                  122\n",
      "India_import                134\n",
      "Russia_import               168\n",
      "South_Africa_import         122\n",
      "Turkey_import               108\n",
      "Brazil_import               108\n",
      "Germeny_import               98\n",
      "United Kingdome_import      122\n",
      "China_import                168\n",
      "Japan_import                123\n",
      "South_korea_import          276\n",
      "dtype: int64\n"
     ]
    }
   ],
   "source": [
    "# looking for null values\n",
    "null=df.isnull().sum()\n",
    "print(null[null>50])"
   ]
  },
  {
   "cell_type": "markdown",
   "id": "ec90263f",
   "metadata": {},
   "source": [
    "All the columns with more than 50 null values."
   ]
  },
  {
   "cell_type": "markdown",
   "id": "19bbaa9e",
   "metadata": {},
   "source": [
    "*Our data has only 276 records , we can remove the columns where the null values are more than 100, and we can fill values in some columns where the number of null values is less.*"
   ]
  },
  {
   "cell_type": "code",
   "execution_count": 7,
   "id": "6590a739",
   "metadata": {},
   "outputs": [],
   "source": [
    "df1 = df.dropna(axis=1, thresh=df.shape[0] - 100)"
   ]
  },
  {
   "cell_type": "code",
   "execution_count": 8,
   "id": "481b8cbe",
   "metadata": {},
   "outputs": [
    {
     "data": {
      "text/plain": [
       "(276, 22)"
      ]
     },
     "execution_count": 8,
     "metadata": {},
     "output_type": "execute_result"
    }
   ],
   "source": [
    "df1.shape"
   ]
  },
  {
   "cell_type": "markdown",
   "id": "3745606a",
   "metadata": {},
   "source": [
    "---\n",
    "#### Since we have to create Univariate models lets ignore other columns and only focus on `Domestic Market` Variable."
   ]
  },
  {
   "cell_type": "code",
   "execution_count": 9,
   "id": "e1c43876",
   "metadata": {},
   "outputs": [],
   "source": [
    "# renaming the target column as y\n",
    "df = df.rename(columns={'Domestic Market (Contract) Blow Molding, Low': 'y'})"
   ]
  },
  {
   "cell_type": "code",
   "execution_count": 10,
   "id": "6efe13a1",
   "metadata": {},
   "outputs": [
    {
     "data": {
      "text/html": [
       "<div>\n",
       "<style scoped>\n",
       "    .dataframe tbody tr th:only-of-type {\n",
       "        vertical-align: middle;\n",
       "    }\n",
       "\n",
       "    .dataframe tbody tr th {\n",
       "        vertical-align: top;\n",
       "    }\n",
       "\n",
       "    .dataframe thead th {\n",
       "        text-align: right;\n",
       "    }\n",
       "</style>\n",
       "<table border=\"1\" class=\"dataframe\">\n",
       "  <thead>\n",
       "    <tr style=\"text-align: right;\">\n",
       "      <th></th>\n",
       "      <th>Date</th>\n",
       "      <th>y</th>\n",
       "    </tr>\n",
       "  </thead>\n",
       "  <tbody>\n",
       "    <tr>\n",
       "      <th>0</th>\n",
       "      <td>2000-01-01</td>\n",
       "      <td>41.0</td>\n",
       "    </tr>\n",
       "    <tr>\n",
       "      <th>1</th>\n",
       "      <td>2000-02-01</td>\n",
       "      <td>41.0</td>\n",
       "    </tr>\n",
       "    <tr>\n",
       "      <th>2</th>\n",
       "      <td>2000-03-01</td>\n",
       "      <td>45.0</td>\n",
       "    </tr>\n",
       "    <tr>\n",
       "      <th>3</th>\n",
       "      <td>2000-04-01</td>\n",
       "      <td>47.0</td>\n",
       "    </tr>\n",
       "    <tr>\n",
       "      <th>4</th>\n",
       "      <td>2000-05-01</td>\n",
       "      <td>47.0</td>\n",
       "    </tr>\n",
       "  </tbody>\n",
       "</table>\n",
       "</div>"
      ],
      "text/plain": [
       "        Date     y\n",
       "0 2000-01-01  41.0\n",
       "1 2000-02-01  41.0\n",
       "2 2000-03-01  45.0\n",
       "3 2000-04-01  47.0\n",
       "4 2000-05-01  47.0"
      ]
     },
     "execution_count": 10,
     "metadata": {},
     "output_type": "execute_result"
    }
   ],
   "source": [
    "df = df[['Date','y']]\n",
    "df.head()"
   ]
  },
  {
   "cell_type": "code",
   "execution_count": 11,
   "id": "454bab2a",
   "metadata": {},
   "outputs": [
    {
     "data": {
      "text/plain": [
       "0"
      ]
     },
     "execution_count": 11,
     "metadata": {},
     "output_type": "execute_result"
    }
   ],
   "source": [
    "# checking for duplicate values\n",
    "df.duplicated().sum()"
   ]
  },
  {
   "cell_type": "code",
   "execution_count": 12,
   "id": "f0dfc64d",
   "metadata": {},
   "outputs": [
    {
     "data": {
      "text/plain": [
       "-0.19174274782101075"
      ]
     },
     "execution_count": 12,
     "metadata": {},
     "output_type": "execute_result"
    }
   ],
   "source": [
    "# looking at the skew of the data\n",
    "df.y.skew()"
   ]
  },
  {
   "cell_type": "code",
   "execution_count": 13,
   "id": "45e979ab",
   "metadata": {},
   "outputs": [
    {
     "data": {
      "text/plain": [
       "-0.9299630740194198"
      ]
     },
     "execution_count": 13,
     "metadata": {},
     "output_type": "execute_result"
    }
   ],
   "source": [
    "# looking for peakedness in data\n",
    "df.y.kurt()"
   ]
  },
  {
   "cell_type": "markdown",
   "id": "18e32052",
   "metadata": {},
   "source": [
    "The kurtosis value is negative so we can say that ⇨ \n",
    "- data has few extreme vales\n",
    "- the distribution has low concentration of data points around mean\n",
    "- no much variablitly in the data."
   ]
  },
  {
   "cell_type": "code",
   "execution_count": 14,
   "id": "e0eeade3",
   "metadata": {},
   "outputs": [
    {
     "data": {
      "text/plain": [
       "Date    datetime64[ns]\n",
       "y              float64\n",
       "dtype: object"
      ]
     },
     "execution_count": 14,
     "metadata": {},
     "output_type": "execute_result"
    }
   ],
   "source": [
    "df.dtypes"
   ]
  },
  {
   "cell_type": "code",
   "execution_count": 15,
   "id": "7333b99a",
   "metadata": {},
   "outputs": [],
   "source": [
    "df=df.set_index('Date')"
   ]
  },
  {
   "cell_type": "code",
   "execution_count": 16,
   "id": "9bcdee6a",
   "metadata": {},
   "outputs": [
    {
     "data": {
      "image/png": "[encoded data removed]",
      "text/plain": [
       "<Figure size 1000x500 with 1 Axes>"
      ]
     },
     "metadata": {},
     "output_type": "display_data"
    }
   ],
   "source": [
    "color_pal = sns.color_palette()\n",
    "df.plot(style='-',\n",
    "          figsize=(10, 5),\n",
    "          ms=1,\n",
    "          color=color_pal[0],\n",
    "        \n",
    "          title='Domestic Market (Contract) Blow Molding, Low')\n",
    "plt.show()"
   ]
  },
  {
   "cell_type": "markdown",
   "id": "8e501e75",
   "metadata": {},
   "source": [
    "## Time Series Feature Generation."
   ]
  },
  {
   "cell_type": "code",
   "execution_count": 17,
   "id": "5738c2f4",
   "metadata": {},
   "outputs": [],
   "source": [
    "from pandas.api.types import CategoricalDtype\n",
    "\n",
    "cat_type = CategoricalDtype(categories=['Monday','Tuesday',\n",
    "                                        'Wednesday',\n",
    "                                        'Thursday','Friday',\n",
    "                                        'Saturday','Sunday'],\n",
    "                            ordered=True)\n",
    "\n",
    "def create_features(df, label=None):\n",
    "    \"\"\"\n",
    "    Creates time series features from datetime index.\n",
    "    \"\"\"\n",
    "    df = df.copy()\n",
    "    df['date'] = df.index\n",
    "    df['dayofweek'] = df['date'].dt.dayofweek\n",
    "    df['weekday'] = df['date'].dt.day_name()\n",
    "    df['weekday'] = df['weekday'].astype(cat_type)\n",
    "    df['quarter'] = df['date'].dt.quarter\n",
    "    df['month'] = df['date'].dt.month\n",
    "    df['year'] = df['date'].dt.year\n",
    "    df['date_offset'] = (df.date.dt.month*100 + df.date.dt.day - 320)%1300\n",
    "\n",
    "    df['season'] = pd.cut(df['date_offset'], [0, 300, 602, 900, 1300], \n",
    "                          labels=['Spring', 'Summer', 'Fall', 'Winter']\n",
    "                   )\n",
    "    X = df[['dayofweek','quarter','month','year','weekday','season']]\n",
    "    if label:\n",
    "        y = df[label]\n",
    "        return X, y\n",
    "    return X\n",
    "\n",
    "X, y = create_features(df, label='y')\n",
    "features_and_target = pd.concat([X, y], axis=1)"
   ]
  },
  {
   "cell_type": "code",
   "execution_count": 18,
   "id": "9bd4d787",
   "metadata": {},
   "outputs": [
    {
     "data": {
      "text/html": [
       "<div>\n",
       "<style scoped>\n",
       "    .dataframe tbody tr th:only-of-type {\n",
       "        vertical-align: middle;\n",
       "    }\n",
       "\n",
       "    .dataframe tbody tr th {\n",
       "        vertical-align: top;\n",
       "    }\n",
       "\n",
       "    .dataframe thead th {\n",
       "        text-align: right;\n",
       "    }\n",
       "</style>\n",
       "<table border=\"1\" class=\"dataframe\">\n",
       "  <thead>\n",
       "    <tr style=\"text-align: right;\">\n",
       "      <th></th>\n",
       "      <th>dayofweek</th>\n",
       "      <th>quarter</th>\n",
       "      <th>month</th>\n",
       "      <th>year</th>\n",
       "      <th>weekday</th>\n",
       "      <th>season</th>\n",
       "    </tr>\n",
       "    <tr>\n",
       "      <th>Date</th>\n",
       "      <th></th>\n",
       "      <th></th>\n",
       "      <th></th>\n",
       "      <th></th>\n",
       "      <th></th>\n",
       "      <th></th>\n",
       "    </tr>\n",
       "  </thead>\n",
       "  <tbody>\n",
       "    <tr>\n",
       "      <th>2000-01-01</th>\n",
       "      <td>5</td>\n",
       "      <td>1</td>\n",
       "      <td>1</td>\n",
       "      <td>2000</td>\n",
       "      <td>Saturday</td>\n",
       "      <td>Winter</td>\n",
       "    </tr>\n",
       "    <tr>\n",
       "      <th>2000-02-01</th>\n",
       "      <td>1</td>\n",
       "      <td>1</td>\n",
       "      <td>2</td>\n",
       "      <td>2000</td>\n",
       "      <td>Tuesday</td>\n",
       "      <td>Winter</td>\n",
       "    </tr>\n",
       "    <tr>\n",
       "      <th>2000-03-01</th>\n",
       "      <td>2</td>\n",
       "      <td>1</td>\n",
       "      <td>3</td>\n",
       "      <td>2000</td>\n",
       "      <td>Wednesday</td>\n",
       "      <td>Winter</td>\n",
       "    </tr>\n",
       "    <tr>\n",
       "      <th>2000-04-01</th>\n",
       "      <td>5</td>\n",
       "      <td>2</td>\n",
       "      <td>4</td>\n",
       "      <td>2000</td>\n",
       "      <td>Saturday</td>\n",
       "      <td>Spring</td>\n",
       "    </tr>\n",
       "    <tr>\n",
       "      <th>2000-05-01</th>\n",
       "      <td>0</td>\n",
       "      <td>2</td>\n",
       "      <td>5</td>\n",
       "      <td>2000</td>\n",
       "      <td>Monday</td>\n",
       "      <td>Spring</td>\n",
       "    </tr>\n",
       "    <tr>\n",
       "      <th>...</th>\n",
       "      <td>...</td>\n",
       "      <td>...</td>\n",
       "      <td>...</td>\n",
       "      <td>...</td>\n",
       "      <td>...</td>\n",
       "      <td>...</td>\n",
       "    </tr>\n",
       "    <tr>\n",
       "      <th>2022-08-01</th>\n",
       "      <td>0</td>\n",
       "      <td>3</td>\n",
       "      <td>8</td>\n",
       "      <td>2022</td>\n",
       "      <td>Monday</td>\n",
       "      <td>Summer</td>\n",
       "    </tr>\n",
       "    <tr>\n",
       "      <th>2022-09-01</th>\n",
       "      <td>3</td>\n",
       "      <td>3</td>\n",
       "      <td>9</td>\n",
       "      <td>2022</td>\n",
       "      <td>Thursday</td>\n",
       "      <td>Summer</td>\n",
       "    </tr>\n",
       "    <tr>\n",
       "      <th>2022-10-01</th>\n",
       "      <td>5</td>\n",
       "      <td>4</td>\n",
       "      <td>10</td>\n",
       "      <td>2022</td>\n",
       "      <td>Saturday</td>\n",
       "      <td>Fall</td>\n",
       "    </tr>\n",
       "    <tr>\n",
       "      <th>2022-11-01</th>\n",
       "      <td>1</td>\n",
       "      <td>4</td>\n",
       "      <td>11</td>\n",
       "      <td>2022</td>\n",
       "      <td>Tuesday</td>\n",
       "      <td>Fall</td>\n",
       "    </tr>\n",
       "    <tr>\n",
       "      <th>2022-12-01</th>\n",
       "      <td>3</td>\n",
       "      <td>4</td>\n",
       "      <td>12</td>\n",
       "      <td>2022</td>\n",
       "      <td>Thursday</td>\n",
       "      <td>Fall</td>\n",
       "    </tr>\n",
       "  </tbody>\n",
       "</table>\n",
       "<p>276 rows × 6 columns</p>\n",
       "</div>"
      ],
      "text/plain": [
       "            dayofweek  quarter  month  year    weekday  season\n",
       "Date                                                          \n",
       "2000-01-01          5        1      1  2000   Saturday  Winter\n",
       "2000-02-01          1        1      2  2000    Tuesday  Winter\n",
       "2000-03-01          2        1      3  2000  Wednesday  Winter\n",
       "2000-04-01          5        2      4  2000   Saturday  Spring\n",
       "2000-05-01          0        2      5  2000     Monday  Spring\n",
       "...               ...      ...    ...   ...        ...     ...\n",
       "2022-08-01          0        3      8  2022     Monday  Summer\n",
       "2022-09-01          3        3      9  2022   Thursday  Summer\n",
       "2022-10-01          5        4     10  2022   Saturday    Fall\n",
       "2022-11-01          1        4     11  2022    Tuesday    Fall\n",
       "2022-12-01          3        4     12  2022   Thursday    Fall\n",
       "\n",
       "[276 rows x 6 columns]"
      ]
     },
     "execution_count": 18,
     "metadata": {},
     "output_type": "execute_result"
    }
   ],
   "source": [
    "X"
   ]
  },
  {
   "cell_type": "code",
   "execution_count": 19,
   "id": "d57f2968",
   "metadata": {},
   "outputs": [
    {
     "data": {
      "image/png": "[encoded data removed]",
      "text/plain": [
       "<Figure size 1000x500 with 1 Axes>"
      ]
     },
     "metadata": {},
     "output_type": "display_data"
    }
   ],
   "source": [
    "fig, ax = plt.subplots(figsize=(10, 5))\n",
    "sns.boxplot(data=features_and_target.dropna(),\n",
    "            x='weekday',\n",
    "            y='y',\n",
    "            hue='season',\n",
    "            ax=ax,\n",
    "            linewidth=1)\n",
    "ax.set_title('Domestic Market (Contract) Blow Molding, Low')\n",
    "ax.set_xlabel('Day of Week')\n",
    "ax.set_ylabel('Domestic Market')\n",
    "ax.legend(bbox_to_anchor=(1, 1))\n",
    "plt.show()"
   ]
  },
  {
   "cell_type": "markdown",
   "id": "63c90784",
   "metadata": {},
   "source": [
    "#### DECOMPOSITION."
   ]
  },
  {
   "cell_type": "code",
   "execution_count": 20,
   "id": "d9c8d5df",
   "metadata": {
    "scrolled": true
   },
   "outputs": [
    {
     "data": {
      "image/png": "[encoded data removed]",
      "text/plain": [
       "<Figure size 640x480 with 4 Axes>"
      ]
     },
     "metadata": {},
     "output_type": "display_data"
    }
   ],
   "source": [
    "# Decomposing the time series\n",
    "result = seasonal_decompose(y, model='additive')\n",
    "result.plot()\n",
    "plt.show()"
   ]
  },
  {
   "cell_type": "markdown",
   "id": "3ad71642",
   "metadata": {},
   "source": [
    "Lets understand this decompostion char.\n",
    "- what is trend?\n",
    "⇨ The trend component represents the long-term movement or direction of the data. \n",
    "- what is seasonality?\n",
    "⇨ The seasonality component captures patterns that repeat over fixed, known intervals, such as daily, weekly, monthly, or yearly.\n",
    "- what is Residuals?\n",
    "⇨ The residual component, also known as the error or noise component, represents the random and irregular fluctuations in the data that cannot be attributed to the trend or seasonality.\n",
    "<br>\n",
    "\n",
    "\n",
    "\n",
    "- *we can cleary see there is no trend.*\n",
    "- *There is seasonality.*"
   ]
  },
  {
   "cell_type": "code",
   "execution_count": 21,
   "id": "7dbc4426",
   "metadata": {},
   "outputs": [
    {
     "name": "stdout",
     "output_type": "stream",
     "text": [
      "ADF Statistic: -2.2380451821864122\n",
      "p-value: 0.192728048921545\n",
      "Critical Values:\n",
      "\t1%: -3.4547128138328875\n",
      "\t5%: -2.8722649771800155\n",
      "\t10%: -2.5724850011573914\n"
     ]
    }
   ],
   "source": [
    "# Performing Augmented Dickey-Fuller test to check stationarity.\n",
    "\n",
    "\n",
    "from statsmodels.tsa.stattools import adfuller\n",
    "\n",
    "# Function to perform Augmented Dickey-Fuller test\n",
    "def adf_test(series):\n",
    "    result = adfuller(series)\n",
    "    print('ADF Statistic:', result[0])\n",
    "    print('p-value:', result[1])\n",
    "    print('Critical Values:')\n",
    "    for key, value in result[4].items():\n",
    "        print('\\t{}: {}'.format(key, value))\n",
    "\n",
    "# Perform Augmented Dickey-Fuller test on the time series data\n",
    "adf_test(y)\n"
   ]
  },
  {
   "cell_type": "markdown",
   "id": "00fc7f84",
   "metadata": {},
   "source": [
    "--- \n",
    "- Q. What is Stationarity?\n",
    "⇨ Stationarity refers to a property where the statistical properties of the data remain constant over time.\n",
    "\n",
    "##### Finding after performing ADF test.\n",
    "1. The p value is 0.19 which is greater than 0.05, so we don't have enough evidence to reject null hyphothesis which is that the time series is non-stationary.\n",
    "2. The test statistic is -2.2380451821864122. Comparing it with the critical values (-3.4547128138328875, -2.8722649771800155, and -2.5724850011573914), we see that the test statistic is greater than all of them. This indicates that the time series may not be stationary.\n",
    "3. In summary, based on the results, the time series may exhibit non-stationary behavior. "
   ]
  },
  {
   "cell_type": "markdown",
   "id": "bf8fb794",
   "metadata": {},
   "source": [
    "---\n",
    "Since our data is non stationary we have to make it stationary. Applying differncing to make stationary."
   ]
  },
  {
   "cell_type": "code",
   "execution_count": 22,
   "id": "d158229c",
   "metadata": {},
   "outputs": [],
   "source": [
    "differenced_series = y.diff().dropna()"
   ]
  },
  {
   "cell_type": "markdown",
   "id": "2aaf7784",
   "metadata": {},
   "source": [
    "#### Building ACF AND PACF plots."
   ]
  },
  {
   "cell_type": "code",
   "execution_count": 23,
   "id": "af4ab89b",
   "metadata": {},
   "outputs": [],
   "source": [
    "from statsmodels.graphics.tsaplots import plot_acf, plot_pacf"
   ]
  },
  {
   "cell_type": "code",
   "execution_count": 24,
   "id": "e4b1262a",
   "metadata": {},
   "outputs": [
    {
     "data": {
      "image/png": "[encoded data removed]",
      "text/plain": [
       "<Figure size 1200x400 with 1 Axes>"
      ]
     },
     "metadata": {},
     "output_type": "display_data"
    },
    {
     "data": {
      "image/png": "[encoded data removed]",
      "text/plain": [
       "<Figure size 1200x400 with 1 Axes>"
      ]
     },
     "metadata": {},
     "output_type": "display_data"
    }
   ],
   "source": [
    "# Plot ACF\n",
    "fig, ax = plt.subplots(figsize=(12, 4))\n",
    "plot_acf(differenced_series, ax=ax)\n",
    "plt.xlabel('Lag')\n",
    "plt.ylabel('Autocorrelation')\n",
    "plt.title('Autocorrelation Function (ACF)')\n",
    "\n",
    "# Plot PACF\n",
    "fig, ax = plt.subplots(figsize=(12, 4))\n",
    "plot_pacf(differenced_series, ax=ax)\n",
    "plt.xlabel('Lag')\n",
    "plt.ylabel('Partial Autocorrelation')\n",
    "plt.title('Partial Autocorrelation Function (PACF)')\n",
    "\n",
    "plt.tight_layout()\n",
    "plt.show()"
   ]
  },
  {
   "cell_type": "markdown",
   "id": "a5ee2132",
   "metadata": {},
   "source": [
    "- If the ACF plot shows a significant spike at lag k and a gradual decline afterward, it suggests a potential MA component of order q=k.\n",
    "- If the ACF plot cuts off abruptly after a certain lag k, it indicates that the series might require differencing (d > 0) to achieve stationarity.\n",
    "- If the PACF plot shows a significant spike at lag k and a gradual decline afterward, it suggests a potential AR component of order p=k."
   ]
  },
  {
   "cell_type": "markdown",
   "id": "ce626188",
   "metadata": {},
   "source": [
    "# Model Building."
   ]
  },
  {
   "cell_type": "markdown",
   "id": "cae93ce1",
   "metadata": {},
   "source": [
    "### Arima Model"
   ]
  },
  {
   "cell_type": "code",
   "execution_count": 25,
   "id": "f9678458",
   "metadata": {},
   "outputs": [],
   "source": [
    "import statsmodels.api as sm"
   ]
  },
  {
   "cell_type": "code",
   "execution_count": 26,
   "id": "f3cc82e4",
   "metadata": {},
   "outputs": [
    {
     "name": "stdout",
     "output_type": "stream",
     "text": [
      "ADF Statistic: -9.399522336217295\n",
      "p-value: 6.241891331473897e-16\n",
      "Critical Values:\n",
      "\t1%: -3.4547128138328875\n",
      "\t5%: -2.8722649771800155\n",
      "\t10%: -2.5724850011573914\n"
     ]
    }
   ],
   "source": [
    "adf_test(differenced_series)"
   ]
  },
  {
   "cell_type": "markdown",
   "id": "75c07c84",
   "metadata": {},
   "source": [
    "#### Splitting the data."
   ]
  },
  {
   "cell_type": "code",
   "execution_count": 27,
   "id": "cd01bc83",
   "metadata": {},
   "outputs": [],
   "source": [
    "train = differenced_series.iloc[0:263]\n",
    "test = differenced_series.iloc[263:276]"
   ]
  },
  {
   "cell_type": "code",
   "execution_count": 28,
   "id": "73d7ae7c",
   "metadata": {},
   "outputs": [
    {
     "name": "stdout",
     "output_type": "stream",
     "text": [
      "Date\n",
      "2022-01-01    0.0\n",
      "2022-02-01    0.0\n",
      "2022-03-01    4.0\n",
      "2022-04-01    0.0\n",
      "2022-05-01    3.0\n",
      "2022-06-01    0.0\n",
      "2022-07-01   -3.0\n",
      "2022-08-01   -4.0\n",
      "2022-09-01   -3.0\n",
      "2022-10-01    0.0\n",
      "2022-11-01    0.0\n",
      "2022-12-01    0.0\n",
      "Name: y, dtype: float64\n"
     ]
    }
   ],
   "source": [
    "print(test)"
   ]
  },
  {
   "cell_type": "code",
   "execution_count": 29,
   "id": "abd2cc74",
   "metadata": {},
   "outputs": [
    {
     "name": "stderr",
     "output_type": "stream",
     "text": [
      "C:\\Users\\91775\\AppData\\Local\\Programs\\Python\\Python310\\lib\\site-packages\\statsmodels\\tsa\\base\\tsa_model.py:473: ValueWarning: No frequency information was provided, so inferred frequency MS will be used.\n",
      "  self._init_dates(dates, freq)\n",
      "C:\\Users\\91775\\AppData\\Local\\Programs\\Python\\Python310\\lib\\site-packages\\statsmodels\\tsa\\statespace\\sarimax.py:966: UserWarning: Non-stationary starting autoregressive parameters found. Using zeros as starting parameters.\n",
      "  warn('Non-stationary starting autoregressive parameters'\n",
      "C:\\Users\\91775\\AppData\\Local\\Programs\\Python\\Python310\\lib\\site-packages\\statsmodels\\tsa\\statespace\\sarimax.py:978: UserWarning: Non-invertible starting MA parameters found. Using zeros as starting parameters.\n",
      "  warn('Non-invertible starting MA parameters found.'\n",
      "C:\\Users\\91775\\AppData\\Local\\Programs\\Python\\Python310\\lib\\site-packages\\statsmodels\\base\\model.py:607: ConvergenceWarning: Maximum Likelihood optimization failed to converge. Check mle_retvals\n",
      "  warnings.warn(\"Maximum Likelihood optimization failed to \"\n"
     ]
    }
   ],
   "source": [
    "model = sm.tsa.ARIMA(train, order=(15, 0, 14),freq='MS')\n",
    "arima_model = model.fit()"
   ]
  },
  {
   "cell_type": "code",
   "execution_count": 30,
   "id": "b718fe3f",
   "metadata": {},
   "outputs": [
    {
     "data": {
      "text/plain": [
       "2022-01-01   -3.103741\n",
       "2022-02-01    1.505800\n",
       "2022-03-01    1.790250\n",
       "2022-04-01    1.868163\n",
       "2022-05-01    0.563578\n",
       "2022-06-01   -3.249813\n",
       "2022-07-01   -2.841879\n",
       "2022-08-01   -2.939739\n",
       "2022-09-01    0.442403\n",
       "2022-10-01    0.451271\n",
       "2022-11-01    0.086437\n",
       "2022-12-01    1.999319\n",
       "Freq: MS, Name: predicted_mean, dtype: float64"
      ]
     },
     "execution_count": 30,
     "metadata": {},
     "output_type": "execute_result"
    }
   ],
   "source": [
    "yhat = arima_model.predict(start='2022-01-01', end='2022-12-01')\n",
    "yhat"
   ]
  },
  {
   "cell_type": "code",
   "execution_count": 31,
   "id": "71d75a82",
   "metadata": {},
   "outputs": [
    {
     "data": {
      "image/png": "[encoded data removed]",
      "text/plain": [
       "<Figure size 640x480 with 1 Axes>"
      ]
     },
     "metadata": {},
     "output_type": "display_data"
    }
   ],
   "source": [
    "# Plot the forecast with the actuals\n",
    "\n",
    "# Plotting the line graphs\n",
    "plt.plot(test, label='y')\n",
    "plt.plot(yhat, label='yhat')\n",
    "\n",
    "# Add labels and title to the plot\n",
    "plt.xlabel('Date')\n",
    "plt.ylabel('Differenced y')\n",
    "plt.title('Actual vs Forecasted')\n",
    "\n",
    "# Add a legend to differentiate the two series\n",
    "plt.legend();"
   ]
  },
  {
   "cell_type": "code",
   "execution_count": 32,
   "id": "30e44d4f",
   "metadata": {},
   "outputs": [],
   "source": [
    "undifferenced_series = differenced_series.cumsum()\n",
    "\n",
    "# Add back the initial value to get the original series\n",
    "original_series = 41.0 + undifferenced_series\n",
    "temp = yhat.cumsum()\n",
    "real_forecasted_values = 93.0 + temp"
   ]
  },
  {
   "cell_type": "code",
   "execution_count": 33,
   "id": "57553a16",
   "metadata": {},
   "outputs": [
    {
     "data": {
      "text/plain": [
       "2022-01-01    89.896259\n",
       "2022-02-01    91.402059\n",
       "2022-03-01    93.192310\n",
       "2022-04-01    95.060473\n",
       "2022-05-01    95.624051\n",
       "2022-06-01    92.374238\n",
       "2022-07-01    89.532359\n",
       "2022-08-01    86.592620\n",
       "2022-09-01    87.035023\n",
       "2022-10-01    87.486294\n",
       "2022-11-01    87.572731\n",
       "2022-12-01    89.572050\n",
       "Freq: MS, Name: predicted_mean, dtype: float64"
      ]
     },
     "execution_count": 33,
     "metadata": {},
     "output_type": "execute_result"
    }
   ],
   "source": [
    "real_forecasted_values"
   ]
  },
  {
   "cell_type": "markdown",
   "id": "53f81987",
   "metadata": {},
   "source": [
    "#### Evaluating the model."
   ]
  },
  {
   "cell_type": "code",
   "execution_count": 34,
   "id": "176dbbf7",
   "metadata": {},
   "outputs": [],
   "source": [
    "from sklearn.metrics import mean_squared_error, mean_absolute_error, r2_score\n",
    "\n",
    "def RMSE(y_true,y_pred)-> float :\n",
    "    return np.sqrt(mean_squared_error(y_true, y_pred))\n",
    "\n",
    "def MAPE(y_true,y_pred) -> float:\n",
    "    return np.mean(np.abs((y_true - y_pred) / y_true)) * 100\n",
    "\n",
    "def R2(y_true,y_pred) -> float:\n",
    "    return r2_score(y_true, y_pred)\n",
    "\n",
    "def MAE(y_true,y_pred) -> float:\n",
    "    return mean_absolute_error(y_true, y_pred)\n",
    "    "
   ]
  },
  {
   "cell_type": "code",
   "execution_count": 35,
   "id": "978a76e9",
   "metadata": {},
   "outputs": [],
   "source": [
    "arima_RMSE = RMSE(original_series.iloc[263:276],real_forecasted_values)\n",
    "arima_MAPE = MAPE(original_series.iloc[263:276],real_forecasted_values)\n",
    "arima_R2 = R2(original_series.iloc[263:276],real_forecasted_values)\n",
    "arima_MAE = MAE(original_series.iloc[263:276],real_forecasted_values)"
   ]
  },
  {
   "cell_type": "code",
   "execution_count": 36,
   "id": "929c2498",
   "metadata": {},
   "outputs": [
    {
     "name": "stdout",
     "output_type": "stream",
     "text": [
      "The Metrics For ARIMA Mode :\n",
      "\n",
      "RMSE : 4.337365083414331\n",
      "MAPE : 3.902532914114455\n",
      "R2   : -0.36269314125872243\n",
      "MAE  : 3.7216277512832376\n"
     ]
    }
   ],
   "source": [
    "print(\"The Metrics For ARIMA Mode :\\n\")\n",
    "print(\"RMSE :\", arima_RMSE)\n",
    "print(\"MAPE :\", arima_MAPE)\n",
    "print(\"R2   :\", arima_R2)\n",
    "print(\"MAE  :\", arima_MAE)"
   ]
  },
  {
   "cell_type": "markdown",
   "id": "751d97fc",
   "metadata": {},
   "source": [
    "### LSTM"
   ]
  },
  {
   "cell_type": "code",
   "execution_count": 37,
   "id": "28c23b2e",
   "metadata": {},
   "outputs": [],
   "source": [
    "from keras.models import Sequential\n",
    "from keras.layers import LSTM, Dense\n",
    "from sklearn.preprocessing import MinMaxScaler"
   ]
  },
  {
   "cell_type": "code",
   "execution_count": 38,
   "id": "d74346a0",
   "metadata": {},
   "outputs": [],
   "source": [
    "# Normalize the data\n",
    "scaler = MinMaxScaler(feature_range=(0, 1))\n",
    "scaled_data = scaler.fit_transform(y.values.reshape(-1, 1))"
   ]
  },
  {
   "cell_type": "code",
   "execution_count": 39,
   "id": "90d90f42",
   "metadata": {},
   "outputs": [],
   "source": [
    "train_data = scaled_data[:263]\n",
    "test_data = scaled_data[263:]"
   ]
  },
  {
   "cell_type": "code",
   "execution_count": 40,
   "id": "aeb72327",
   "metadata": {},
   "outputs": [],
   "source": [
    "# Convert the data into sequences\n",
    "def create_sequences(data, window_size):\n",
    "    X, y = [], []\n",
    "    for i in range(len(data) - window_size):\n",
    "        X.append(data[i:i+window_size])\n",
    "        y.append(data[i+window_size])\n",
    "    return np.array(X), np.array(y)\n",
    "\n",
    "window_size = 10  # Choose an appropriate window size\n",
    "train_X, train_y = create_sequences(train_data, window_size)\n",
    "test_X, test_y = create_sequences(test_data, window_size)\n"
   ]
  },
  {
   "cell_type": "code",
   "execution_count": 41,
   "id": "8aa95363",
   "metadata": {},
   "outputs": [],
   "source": [
    "# Build the LSTM model\n",
    "model = Sequential()\n",
    "model.add(LSTM(50, activation='relu', input_shape=(window_size, 1)))\n",
    "model.add(Dense(1))\n",
    "model.compile(optimizer='adam', loss='mean_squared_error')\n"
   ]
  },
  {
   "cell_type": "code",
   "execution_count": 42,
   "id": "1388d2ae",
   "metadata": {
    "scrolled": true
   },
   "outputs": [
    {
     "name": "stdout",
     "output_type": "stream",
     "text": [
      "Epoch 1/50\n",
      "8/8 [==============================] - 2s 6ms/step - loss: 0.2933\n",
      "Epoch 2/50\n",
      "8/8 [==============================] - 0s 6ms/step - loss: 0.1838\n",
      "Epoch 3/50\n",
      "8/8 [==============================] - 0s 5ms/step - loss: 0.0896\n",
      "Epoch 4/50\n",
      "8/8 [==============================] - 0s 5ms/step - loss: 0.0300\n",
      "Epoch 5/50\n",
      "8/8 [==============================] - 0s 6ms/step - loss: 0.0235\n",
      "Epoch 6/50\n",
      "8/8 [==============================] - 0s 5ms/step - loss: 0.0176\n",
      "Epoch 7/50\n",
      "8/8 [==============================] - 0s 5ms/step - loss: 0.0187\n",
      "Epoch 8/50\n",
      "8/8 [==============================] - 0s 5ms/step - loss: 0.0168\n",
      "Epoch 9/50\n",
      "8/8 [==============================] - 0s 5ms/step - loss: 0.0168\n",
      "Epoch 10/50\n",
      "8/8 [==============================] - 0s 6ms/step - loss: 0.0163\n",
      "Epoch 11/50\n",
      "8/8 [==============================] - 0s 6ms/step - loss: 0.0158\n",
      "Epoch 12/50\n",
      "8/8 [==============================] - 0s 5ms/step - loss: 0.0155\n",
      "Epoch 13/50\n",
      "8/8 [==============================] - 0s 5ms/step - loss: 0.0151\n",
      "Epoch 14/50\n",
      "8/8 [==============================] - 0s 5ms/step - loss: 0.0148\n",
      "Epoch 15/50\n",
      "8/8 [==============================] - 0s 5ms/step - loss: 0.0150\n",
      "Epoch 16/50\n",
      "8/8 [==============================] - 0s 5ms/step - loss: 0.0142\n",
      "Epoch 17/50\n",
      "8/8 [==============================] - 0s 5ms/step - loss: 0.0137\n",
      "Epoch 18/50\n",
      "8/8 [==============================] - 0s 8ms/step - loss: 0.0132\n",
      "Epoch 19/50\n",
      "8/8 [==============================] - 0s 8ms/step - loss: 0.0131\n",
      "Epoch 20/50\n",
      "8/8 [==============================] - 0s 7ms/step - loss: 0.0125\n",
      "Epoch 21/50\n",
      "8/8 [==============================] - 0s 5ms/step - loss: 0.0120\n",
      "Epoch 22/50\n",
      "8/8 [==============================] - 0s 6ms/step - loss: 0.0118\n",
      "Epoch 23/50\n",
      "8/8 [==============================] - 0s 5ms/step - loss: 0.0115\n",
      "Epoch 24/50\n",
      "8/8 [==============================] - 0s 5ms/step - loss: 0.0112\n",
      "Epoch 25/50\n",
      "8/8 [==============================] - 0s 5ms/step - loss: 0.0109\n",
      "Epoch 26/50\n",
      "8/8 [==============================] - 0s 6ms/step - loss: 0.0108\n",
      "Epoch 27/50\n",
      "8/8 [==============================] - 0s 6ms/step - loss: 0.0103\n",
      "Epoch 28/50\n",
      "8/8 [==============================] - 0s 5ms/step - loss: 0.0101\n",
      "Epoch 29/50\n",
      "8/8 [==============================] - 0s 5ms/step - loss: 0.0098\n",
      "Epoch 30/50\n",
      "8/8 [==============================] - 0s 6ms/step - loss: 0.0101\n",
      "Epoch 31/50\n",
      "8/8 [==============================] - 0s 6ms/step - loss: 0.0095\n",
      "Epoch 32/50\n",
      "8/8 [==============================] - 0s 5ms/step - loss: 0.0091\n",
      "Epoch 33/50\n",
      "8/8 [==============================] - 0s 5ms/step - loss: 0.0089\n",
      "Epoch 34/50\n",
      "8/8 [==============================] - 0s 5ms/step - loss: 0.0091\n",
      "Epoch 35/50\n",
      "8/8 [==============================] - 0s 5ms/step - loss: 0.0086\n",
      "Epoch 36/50\n",
      "8/8 [==============================] - 0s 5ms/step - loss: 0.0087\n",
      "Epoch 37/50\n",
      "8/8 [==============================] - 0s 5ms/step - loss: 0.0085\n",
      "Epoch 38/50\n",
      "8/8 [==============================] - 0s 7ms/step - loss: 0.0082\n",
      "Epoch 39/50\n",
      "8/8 [==============================] - 0s 6ms/step - loss: 0.0080\n",
      "Epoch 40/50\n",
      "8/8 [==============================] - 0s 5ms/step - loss: 0.0078\n",
      "Epoch 41/50\n",
      "8/8 [==============================] - 0s 6ms/step - loss: 0.0076\n",
      "Epoch 42/50\n",
      "8/8 [==============================] - 0s 5ms/step - loss: 0.0078\n",
      "Epoch 43/50\n",
      "8/8 [==============================] - 0s 5ms/step - loss: 0.0070\n",
      "Epoch 44/50\n",
      "8/8 [==============================] - 0s 5ms/step - loss: 0.0071\n",
      "Epoch 45/50\n",
      "8/8 [==============================] - 0s 5ms/step - loss: 0.0068\n",
      "Epoch 46/50\n",
      "8/8 [==============================] - 0s 5ms/step - loss: 0.0063\n",
      "Epoch 47/50\n",
      "8/8 [==============================] - 0s 6ms/step - loss: 0.0065\n",
      "Epoch 48/50\n",
      "8/8 [==============================] - 0s 6ms/step - loss: 0.0059\n",
      "Epoch 49/50\n",
      "8/8 [==============================] - 0s 5ms/step - loss: 0.0077\n",
      "Epoch 50/50\n",
      "8/8 [==============================] - 0s 5ms/step - loss: 0.0072\n"
     ]
    },
    {
     "data": {
      "text/plain": [
       "<keras.callbacks.History at 0x2aa58d01cc0>"
      ]
     },
     "execution_count": 42,
     "metadata": {},
     "output_type": "execute_result"
    }
   ],
   "source": [
    "# Train the model\n",
    "model.fit(train_X, train_y, epochs=50, batch_size=32)"
   ]
  },
  {
   "cell_type": "code",
   "execution_count": 43,
   "id": "5d1d4245",
   "metadata": {},
   "outputs": [
    {
     "name": "stdout",
     "output_type": "stream",
     "text": [
      "1/1 [==============================] - 0s 260ms/step - loss: 0.0069\n"
     ]
    }
   ],
   "source": [
    "# Evaluate the model\n",
    "loss = model.evaluate(test_X, test_y)"
   ]
  },
  {
   "cell_type": "code",
   "execution_count": 44,
   "id": "0a49a8a1",
   "metadata": {},
   "outputs": [
    {
     "name": "stdout",
     "output_type": "stream",
     "text": [
      "1/1 [==============================] - 0s 191ms/step\n"
     ]
    }
   ],
   "source": [
    "# Make predictions\n",
    "predictions = model.predict(test_X)"
   ]
  },
  {
   "cell_type": "code",
   "execution_count": 45,
   "id": "abaa3ff3",
   "metadata": {},
   "outputs": [],
   "source": [
    "# Rescale the predictions to the original scale\n",
    "predictions = scaler.inverse_transform(predictions)"
   ]
  },
  {
   "cell_type": "code",
   "execution_count": 46,
   "id": "d43c067a",
   "metadata": {},
   "outputs": [
    {
     "data": {
      "text/plain": [
       "array([[84.92376 ],\n",
       "       [83.36343 ],\n",
       "       [82.971344]], dtype=float32)"
      ]
     },
     "execution_count": 46,
     "metadata": {},
     "output_type": "execute_result"
    }
   ],
   "source": [
    "predictions"
   ]
  },
  {
   "cell_type": "code",
   "execution_count": 47,
   "id": "d2e1cb92",
   "metadata": {},
   "outputs": [],
   "source": [
    "# Convert the predictions to a pandas Series with appropriate index\n",
    "predicted_series = pd.Series(predictions.flatten(), index=y.index[273:])"
   ]
  },
  {
   "cell_type": "code",
   "execution_count": 48,
   "id": "9a32f330",
   "metadata": {},
   "outputs": [
    {
     "data": {
      "text/plain": [
       "Date\n",
       "2022-10-01    84.923759\n",
       "2022-11-01    83.363426\n",
       "2022-12-01    82.971344\n",
       "dtype: float32"
      ]
     },
     "execution_count": 48,
     "metadata": {},
     "output_type": "execute_result"
    }
   ],
   "source": [
    "predicted_series"
   ]
  },
  {
   "cell_type": "code",
   "execution_count": 49,
   "id": "45e6a15e",
   "metadata": {},
   "outputs": [
    {
     "data": {
      "image/png": "[encoded data removed]",
      "text/plain": [
       "<Figure size 640x480 with 1 Axes>"
      ]
     },
     "metadata": {},
     "output_type": "display_data"
    }
   ],
   "source": [
    "# Plot the forecast with the actuals\n",
    "\n",
    "# Plotting the line graphs\n",
    "plt.plot(y, label='y')\n",
    "plt.plot(predicted_series, label='yhat')\n",
    "\n",
    "# Add labels and title to the plot\n",
    "plt.xlabel('Date')\n",
    "plt.ylabel('y')\n",
    "plt.title('Actual vs Forecasted')\n",
    "\n",
    "# Add a legend to differentiate the two series\n",
    "plt.legend();"
   ]
  },
  {
   "cell_type": "code",
   "execution_count": 50,
   "id": "963e659a",
   "metadata": {},
   "outputs": [],
   "source": [
    "LSTM_RMSE = RMSE(y.iloc[273:],predicted_series)\n",
    "LSTM_MAPE = MAPE(y.iloc[273:],predicted_series)\n",
    "LSTM_R2 = R2(y.iloc[273:],predicted_series)\n",
    "LSTM_MAE = MAE(y.iloc[273:],predicted_series)"
   ]
  },
  {
   "cell_type": "code",
   "execution_count": 51,
   "id": "4b70b445",
   "metadata": {},
   "outputs": [
    {
     "name": "stdout",
     "output_type": "stream",
     "text": [
      "The Metrics For LSTM Mode :\n",
      "\n",
      "RMSE : 6.303817228583498\n",
      "MAPE : 6.941285309968172\n",
      "R2   : 0.0\n",
      "MAE  : 6.2471567789713545\n"
     ]
    }
   ],
   "source": [
    "print(\"The Metrics For LSTM Mode :\\n\")\n",
    "print(\"RMSE :\", LSTM_RMSE)\n",
    "print(\"MAPE :\", LSTM_MAPE)\n",
    "print(\"R2   :\", LSTM_R2)\n",
    "print(\"MAE  :\", LSTM_MAE)"
   ]
  },
  {
   "cell_type": "markdown",
   "id": "d4c3b8e8",
   "metadata": {},
   "source": [
    "### Lazy Predict"
   ]
  },
  {
   "cell_type": "code",
   "execution_count": 52,
   "id": "016a491f",
   "metadata": {},
   "outputs": [],
   "source": [
    "from lazypredict.Supervised import LazyRegressor"
   ]
  },
  {
   "cell_type": "code",
   "execution_count": 53,
   "id": "abd1edd3",
   "metadata": {},
   "outputs": [],
   "source": [
    "reg = LazyRegressor(verbose=0, ignore_warnings=True, custom_metric=None)"
   ]
  },
  {
   "cell_type": "code",
   "execution_count": 54,
   "id": "a8eb078d",
   "metadata": {},
   "outputs": [
    {
     "data": {
      "text/html": [
       "<div>\n",
       "<style scoped>\n",
       "    .dataframe tbody tr th:only-of-type {\n",
       "        vertical-align: middle;\n",
       "    }\n",
       "\n",
       "    .dataframe tbody tr th {\n",
       "        vertical-align: top;\n",
       "    }\n",
       "\n",
       "    .dataframe thead th {\n",
       "        text-align: right;\n",
       "    }\n",
       "</style>\n",
       "<table border=\"1\" class=\"dataframe\">\n",
       "  <thead>\n",
       "    <tr style=\"text-align: right;\">\n",
       "      <th></th>\n",
       "      <th>Date</th>\n",
       "      <th>Domestic Market (Contract) Blow Molding, Low</th>\n",
       "      <th>Spot/Export Blow Molding</th>\n",
       "      <th>WTISPLC</th>\n",
       "      <th>MCOILBRENTEU</th>\n",
       "      <th>GASREGM</th>\n",
       "      <th>IMPCH</th>\n",
       "      <th>EXPCH</th>\n",
       "      <th>PRUBBUSDM</th>\n",
       "      <th>WPUFD4111</th>\n",
       "      <th>...</th>\n",
       "      <th>PCU3252132521</th>\n",
       "      <th>MHHNGSP</th>\n",
       "      <th>PCU32611332611301.1</th>\n",
       "      <th>Producer Price Index by Industry: Plastics Material and Resins Manufacturing: Thermoplastic Resins and Plastics Materials</th>\n",
       "      <th>Turkey</th>\n",
       "      <th>Brazil</th>\n",
       "      <th>France_export</th>\n",
       "      <th>Germeny_export</th>\n",
       "      <th>France_import</th>\n",
       "      <th>Germeny_import</th>\n",
       "    </tr>\n",
       "  </thead>\n",
       "  <tbody>\n",
       "    <tr>\n",
       "      <th>0</th>\n",
       "      <td>2000-01-01</td>\n",
       "      <td>41.00</td>\n",
       "      <td>NaN</td>\n",
       "      <td>27.18</td>\n",
       "      <td>25.51</td>\n",
       "      <td>1.29</td>\n",
       "      <td>6902.10</td>\n",
       "      <td>863.10</td>\n",
       "      <td>29.21</td>\n",
       "      <td>135.00</td>\n",
       "      <td>...</td>\n",
       "      <td>NaN</td>\n",
       "      <td>2.42</td>\n",
       "      <td>106.30</td>\n",
       "      <td>139.40</td>\n",
       "      <td>61808.00</td>\n",
       "      <td>10352529.00</td>\n",
       "      <td>29327224.00</td>\n",
       "      <td>NaN</td>\n",
       "      <td>35239920.00</td>\n",
       "      <td>NaN</td>\n",
       "    </tr>\n",
       "    <tr>\n",
       "      <th>1</th>\n",
       "      <td>2000-02-01</td>\n",
       "      <td>41.00</td>\n",
       "      <td>NaN</td>\n",
       "      <td>29.35</td>\n",
       "      <td>27.78</td>\n",
       "      <td>1.38</td>\n",
       "      <td>6584.40</td>\n",
       "      <td>972.70</td>\n",
       "      <td>33.39</td>\n",
       "      <td>136.00</td>\n",
       "      <td>...</td>\n",
       "      <td>NaN</td>\n",
       "      <td>2.66</td>\n",
       "      <td>105.60</td>\n",
       "      <td>141.70</td>\n",
       "      <td>450675.00</td>\n",
       "      <td>8844172.00</td>\n",
       "      <td>33506035.00</td>\n",
       "      <td>NaN</td>\n",
       "      <td>36716752.00</td>\n",
       "      <td>NaN</td>\n",
       "    </tr>\n",
       "    <tr>\n",
       "      <th>2</th>\n",
       "      <td>2000-03-01</td>\n",
       "      <td>45.00</td>\n",
       "      <td>NaN</td>\n",
       "      <td>29.89</td>\n",
       "      <td>27.49</td>\n",
       "      <td>1.52</td>\n",
       "      <td>6424.10</td>\n",
       "      <td>1330.50</td>\n",
       "      <td>30.94</td>\n",
       "      <td>136.00</td>\n",
       "      <td>...</td>\n",
       "      <td>NaN</td>\n",
       "      <td>2.79</td>\n",
       "      <td>106.10</td>\n",
       "      <td>146.30</td>\n",
       "      <td>671273.00</td>\n",
       "      <td>14091209.00</td>\n",
       "      <td>35764935.00</td>\n",
       "      <td>NaN</td>\n",
       "      <td>45144561.00</td>\n",
       "      <td>NaN</td>\n",
       "    </tr>\n",
       "    <tr>\n",
       "      <th>3</th>\n",
       "      <td>2000-04-01</td>\n",
       "      <td>47.00</td>\n",
       "      <td>NaN</td>\n",
       "      <td>25.74</td>\n",
       "      <td>22.76</td>\n",
       "      <td>1.47</td>\n",
       "      <td>7070.50</td>\n",
       "      <td>1227.50</td>\n",
       "      <td>31.93</td>\n",
       "      <td>137.30</td>\n",
       "      <td>...</td>\n",
       "      <td>NaN</td>\n",
       "      <td>3.04</td>\n",
       "      <td>106.90</td>\n",
       "      <td>151.40</td>\n",
       "      <td>73178.00</td>\n",
       "      <td>14097518.00</td>\n",
       "      <td>24713057.00</td>\n",
       "      <td>NaN</td>\n",
       "      <td>32240349.00</td>\n",
       "      <td>NaN</td>\n",
       "    </tr>\n",
       "    <tr>\n",
       "      <th>4</th>\n",
       "      <td>2000-05-01</td>\n",
       "      <td>47.00</td>\n",
       "      <td>NaN</td>\n",
       "      <td>28.78</td>\n",
       "      <td>27.74</td>\n",
       "      <td>1.49</td>\n",
       "      <td>7850.20</td>\n",
       "      <td>1526.30</td>\n",
       "      <td>31.20</td>\n",
       "      <td>138.20</td>\n",
       "      <td>...</td>\n",
       "      <td>NaN</td>\n",
       "      <td>3.59</td>\n",
       "      <td>106.30</td>\n",
       "      <td>155.60</td>\n",
       "      <td>211953.00</td>\n",
       "      <td>16762995.00</td>\n",
       "      <td>28413226.00</td>\n",
       "      <td>NaN</td>\n",
       "      <td>29351633.00</td>\n",
       "      <td>NaN</td>\n",
       "    </tr>\n",
       "  </tbody>\n",
       "</table>\n",
       "<p>5 rows × 22 columns</p>\n",
       "</div>"
      ],
      "text/plain": [
       "        Date  Domestic Market (Contract) Blow Molding, Low  \\\n",
       "0 2000-01-01                                         41.00   \n",
       "1 2000-02-01                                         41.00   \n",
       "2 2000-03-01                                         45.00   \n",
       "3 2000-04-01                                         47.00   \n",
       "4 2000-05-01                                         47.00   \n",
       "\n",
       "   Spot/Export Blow Molding  WTISPLC  MCOILBRENTEU  GASREGM   IMPCH   EXPCH  \\\n",
       "0                       NaN    27.18         25.51     1.29 6902.10  863.10   \n",
       "1                       NaN    29.35         27.78     1.38 6584.40  972.70   \n",
       "2                       NaN    29.89         27.49     1.52 6424.10 1330.50   \n",
       "3                       NaN    25.74         22.76     1.47 7070.50 1227.50   \n",
       "4                       NaN    28.78         27.74     1.49 7850.20 1526.30   \n",
       "\n",
       "   PRUBBUSDM  WPUFD4111  ...  PCU3252132521  MHHNGSP  PCU32611332611301.1  \\\n",
       "0      29.21     135.00  ...            NaN     2.42               106.30   \n",
       "1      33.39     136.00  ...            NaN     2.66               105.60   \n",
       "2      30.94     136.00  ...            NaN     2.79               106.10   \n",
       "3      31.93     137.30  ...            NaN     3.04               106.90   \n",
       "4      31.20     138.20  ...            NaN     3.59               106.30   \n",
       "\n",
       "   Producer Price Index by Industry: Plastics Material and Resins Manufacturing: Thermoplastic Resins and Plastics Materials   \\\n",
       "0                                             139.40                                                                            \n",
       "1                                             141.70                                                                            \n",
       "2                                             146.30                                                                            \n",
       "3                                             151.40                                                                            \n",
       "4                                             155.60                                                                            \n",
       "\n",
       "     Turkey      Brazil  France_export  Germeny_export  France_import  \\\n",
       "0  61808.00 10352529.00    29327224.00             NaN    35239920.00   \n",
       "1 450675.00  8844172.00    33506035.00             NaN    36716752.00   \n",
       "2 671273.00 14091209.00    35764935.00             NaN    45144561.00   \n",
       "3  73178.00 14097518.00    24713057.00             NaN    32240349.00   \n",
       "4 211953.00 16762995.00    28413226.00             NaN    29351633.00   \n",
       "\n",
       "   Germeny_import  \n",
       "0             NaN  \n",
       "1             NaN  \n",
       "2             NaN  \n",
       "3             NaN  \n",
       "4             NaN  \n",
       "\n",
       "[5 rows x 22 columns]"
      ]
     },
     "execution_count": 54,
     "metadata": {},
     "output_type": "execute_result"
    }
   ],
   "source": [
    "# lets use this dataframe\n",
    "df1.head()"
   ]
  },
  {
   "cell_type": "markdown",
   "id": "3d9548c0",
   "metadata": {},
   "source": [
    "##### Filling NA values with the respective mean value."
   ]
  },
  {
   "cell_type": "code",
   "execution_count": 58,
   "id": "49d7ddb4",
   "metadata": {},
   "outputs": [],
   "source": [
    "for col in df1.columns:\n",
    "    df1[col] = df1[col].fillna(df1[col].mean())"
   ]
  },
  {
   "cell_type": "code",
   "execution_count": 71,
   "id": "488e5b92",
   "metadata": {},
   "outputs": [],
   "source": [
    "# splitting the data\n",
    "X_train = df1[df1.Date<'2022-01-01'].drop('Domestic Market (Contract) Blow Molding, Low',axis =1)\n",
    "y_train = df1[df1.Date<'2022-01-01']['Domestic Market (Contract) Blow Molding, Low']"
   ]
  },
  {
   "cell_type": "code",
   "execution_count": 72,
   "id": "ccd7b7a9",
   "metadata": {},
   "outputs": [],
   "source": [
    "X_test = df1[df1.Date>'2022-01-01'].drop('Domestic Market (Contract) Blow Molding, Low',axis =1)\n",
    "y_test = df1[df1.Date>'2022-01-01']['Domestic Market (Contract) Blow Molding, Low']"
   ]
  },
  {
   "cell_type": "code",
   "execution_count": 73,
   "id": "f9e21fa8",
   "metadata": {},
   "outputs": [
    {
     "name": "stderr",
     "output_type": "stream",
     "text": [
      "100%|██████████████████████████████████████████| 42/42 [00:03<00:00, 11.49it/s]\n"
     ]
    }
   ],
   "source": [
    "models, predictions = reg.fit(X_train, X_test, y_train, y_test)"
   ]
  },
  {
   "cell_type": "code",
   "execution_count": 74,
   "id": "f449d7d3",
   "metadata": {},
   "outputs": [
    {
     "name": "stdout",
     "output_type": "stream",
     "text": [
      "                               Adjusted R-Squared  R-Squared    RMSE  \\\n",
      "Model                                                                  \n",
      "Lars                                    110939.98 -122031.88 1349.60   \n",
      "GaussianProcessRegressor                   537.58    -589.23   93.86   \n",
      "KernelRidge                                243.72    -265.99   63.13   \n",
      "MLPRegressor                               188.77    -205.55   55.52   \n",
      "DummyRegressor                              33.83     -35.11   23.22   \n",
      "QuantileRegressor                           32.12     -33.24   22.61   \n",
      "OrthogonalMatchingPursuit                   29.94     -30.84   21.80   \n",
      "PassiveAggressiveRegressor                  24.30     -24.63   19.56   \n",
      "OrthogonalMatchingPursuitCV                 21.18     -21.20   18.20   \n",
      "GammaRegressor                              21.17     -21.18   18.20   \n",
      "SVR                                         18.69     -18.45   17.04   \n",
      "NuSVR                                       18.63     -18.40   17.01   \n",
      "HuberRegressor                              13.08     -12.29   14.09   \n",
      "Lasso                                       11.27     -10.30   12.99   \n",
      "LassoLars                                   11.27     -10.30   12.99   \n",
      "PoissonRegressor                            10.64      -9.61   12.58   \n",
      "ElasticNetCV                                10.51      -9.47   12.50   \n",
      "SGDRegressor                                 8.50      -7.25   11.10   \n",
      "TweedieRegressor                             8.26      -6.98   10.91   \n",
      "LassoLarsIC                                  8.25      -6.98   10.91   \n",
      "LassoCV                                      8.10      -6.81   10.80   \n",
      "LassoLarsCV                                  8.07      -6.78   10.78   \n",
      "ElasticNet                                   7.72      -6.39   10.50   \n",
      "LarsCV                                       7.41      -6.05   10.26   \n",
      "LinearRegression                             7.26      -5.89   10.14   \n",
      "TransformedTargetRegressor                   7.26      -5.89   10.14   \n",
      "BayesianRidge                                6.89      -5.48    9.83   \n",
      "XGBRegressor                                 6.39      -4.93    9.40   \n",
      "RidgeCV                                      6.09      -4.60    9.14   \n",
      "Ridge                                        6.09      -4.60    9.14   \n",
      "DecisionTreeRegressor                        5.67      -4.14    8.76   \n",
      "LinearSVR                                    5.57      -4.03    8.66   \n",
      "ExtraTreeRegressor                           5.06      -3.46    8.16   \n",
      "KNeighborsRegressor                          3.55      -1.81    6.48   \n",
      "RANSACRegressor                              3.32      -1.56    6.18   \n",
      "AdaBoostRegressor                            2.53      -0.68    5.01   \n",
      "HistGradientBoostingRegressor                2.40      -0.54    4.79   \n",
      "GradientBoostingRegressor                    2.36      -0.50    4.73   \n",
      "RandomForestRegressor                        2.33      -0.47    4.68   \n",
      "LGBMRegressor                                2.06      -0.17    4.17   \n",
      "BaggingRegressor                             1.91       0.00    3.86   \n",
      "ExtraTreesRegressor                          1.54       0.41    2.98   \n",
      "\n",
      "                               Time Taken  \n",
      "Model                                      \n",
      "Lars                                 0.01  \n",
      "GaussianProcessRegressor             0.03  \n",
      "KernelRidge                          0.02  \n",
      "MLPRegressor                         0.30  \n",
      "DummyRegressor                       0.01  \n",
      "QuantileRegressor                    1.13  \n",
      "OrthogonalMatchingPursuit            0.01  \n",
      "PassiveAggressiveRegressor           0.01  \n",
      "OrthogonalMatchingPursuitCV          0.01  \n",
      "GammaRegressor                       0.02  \n",
      "SVR                                  0.01  \n",
      "NuSVR                                0.01  \n",
      "HuberRegressor                       0.05  \n",
      "Lasso                                0.01  \n",
      "LassoLars                            0.01  \n",
      "PoissonRegressor                     0.02  \n",
      "ElasticNetCV                         0.05  \n",
      "SGDRegressor                         0.01  \n",
      "TweedieRegressor                     0.01  \n",
      "LassoLarsIC                          0.01  \n",
      "LassoCV                              0.07  \n",
      "LassoLarsCV                          0.03  \n",
      "ElasticNet                           0.01  \n",
      "LarsCV                               0.03  \n",
      "LinearRegression                     0.01  \n",
      "TransformedTargetRegressor           0.01  \n",
      "BayesianRidge                        0.01  \n",
      "XGBRegressor                         0.17  \n",
      "RidgeCV                              0.01  \n",
      "Ridge                                0.01  \n",
      "DecisionTreeRegressor                0.01  \n",
      "LinearSVR                            0.01  \n",
      "ExtraTreeRegressor                   0.01  \n",
      "KNeighborsRegressor                  0.17  \n",
      "RANSACRegressor                      0.05  \n",
      "AdaBoostRegressor                    0.12  \n",
      "HistGradientBoostingRegressor        0.24  \n",
      "GradientBoostingRegressor            0.26  \n",
      "RandomForestRegressor                0.43  \n",
      "LGBMRegressor                        0.05  \n",
      "BaggingRegressor                     0.05  \n",
      "ExtraTreesRegressor                  0.17  \n"
     ]
    }
   ],
   "source": [
    "print(models)\n"
   ]
  },
  {
   "cell_type": "markdown",
   "id": "3686e63e",
   "metadata": {},
   "source": [
    "---"
   ]
  }
 ],
 "metadata": {
  "kernelspec": {
   "display_name": "Python 3 (ipykernel)",
   "language": "python",
   "name": "python3"
  },
  "language_info": {
   "codemirror_mode": {
    "name": "ipython",
    "version": 3
   },
   "file_extension": ".py",
   "mimetype": "text/x-python",
   "name": "python",
   "nbconvert_exporter": "python",
   "pygments_lexer": "ipython3",
   "version": "3.10.7"
  }
 },
 "nbformat": 4,
 "nbformat_minor": 5
}
